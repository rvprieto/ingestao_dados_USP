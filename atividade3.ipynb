{
	"metadata": {
		"kernelspec": {
			"name": "python3",
			"display_name": "Python 3 (ipykernel)",
			"language": "python"
		},
		"language_info": {
			"name": "python",
			"version": "3.9.9",
			"mimetype": "text/x-python",
			"codemirror_mode": {
				"name": "ipython",
				"version": 3
			},
			"pygments_lexer": "ipython3",
			"nbconvert_exporter": "python",
			"file_extension": ".py"
		}
	},
	"nbformat_minor": 4,
	"nbformat": 4,
	"cells": [
		{
			"cell_type": "code",
			"source": "!pip install polars\n!pip install glob2\n!pip install boto3",
			"metadata": {
				"trusted": true,
				"tags": []
			},
			"execution_count": 1,
			"outputs": [
				{
					"name": "stdout",
					"text": "Defaulting to user installation because normal site-packages is not writeable\nRequirement already satisfied: polars in /home/jupyter-user/.local/lib/python3.9/site-packages (0.18.15)\n\n\u001b[1m[\u001b[0m\u001b[34;49mnotice\u001b[0m\u001b[1;39;49m]\u001b[0m\u001b[39;49m A new release of pip is available: \u001b[0m\u001b[31;49m23.1.2\u001b[0m\u001b[39;49m -> \u001b[0m\u001b[32;49m23.2.1\u001b[0m\n\u001b[1m[\u001b[0m\u001b[34;49mnotice\u001b[0m\u001b[1;39;49m]\u001b[0m\u001b[39;49m To update, run: \u001b[0m\u001b[32;49mpip install --upgrade pip\u001b[0m\nDefaulting to user installation because normal site-packages is not writeable\nRequirement already satisfied: glob2 in /home/jupyter-user/.local/lib/python3.9/site-packages (0.7)\n\n\u001b[1m[\u001b[0m\u001b[34;49mnotice\u001b[0m\u001b[1;39;49m]\u001b[0m\u001b[39;49m A new release of pip is available: \u001b[0m\u001b[31;49m23.1.2\u001b[0m\u001b[39;49m -> \u001b[0m\u001b[32;49m23.2.1\u001b[0m\n\u001b[1m[\u001b[0m\u001b[34;49mnotice\u001b[0m\u001b[1;39;49m]\u001b[0m\u001b[39;49m To update, run: \u001b[0m\u001b[32;49mpip install --upgrade pip\u001b[0m\nDefaulting to user installation because normal site-packages is not writeable\nRequirement already satisfied: boto3 in /home/jupyter-user/.local/lib/python3.9/site-packages (1.28.2)\nRequirement already satisfied: botocore<1.32.0,>=1.31.2 in /home/jupyter-user/.local/lib/python3.9/site-packages (from boto3) (1.31.2)\nRequirement already satisfied: jmespath<2.0.0,>=0.7.1 in /home/jupyter-user/.local/lib/python3.9/site-packages (from boto3) (1.0.1)\nRequirement already satisfied: s3transfer<0.7.0,>=0.6.0 in /home/jupyter-user/.local/lib/python3.9/site-packages (from boto3) (0.6.1)\nRequirement already satisfied: python-dateutil<3.0.0,>=2.1 in /home/jupyter-user/.local/lib/python3.9/site-packages (from botocore<1.32.0,>=1.31.2->boto3) (2.8.2)\nRequirement already satisfied: urllib3<1.27,>=1.25.4 in /home/jupyter-user/.local/lib/python3.9/site-packages (from botocore<1.32.0,>=1.31.2->boto3) (1.26.16)\nRequirement already satisfied: six>=1.5 in /home/jupyter-user/.local/lib/python3.9/site-packages (from python-dateutil<3.0.0,>=2.1->botocore<1.32.0,>=1.31.2->boto3) (1.16.0)\n\n\u001b[1m[\u001b[0m\u001b[34;49mnotice\u001b[0m\u001b[1;39;49m]\u001b[0m\u001b[39;49m A new release of pip is available: \u001b[0m\u001b[31;49m23.1.2\u001b[0m\u001b[39;49m -> \u001b[0m\u001b[32;49m23.2.1\u001b[0m\n\u001b[1m[\u001b[0m\u001b[34;49mnotice\u001b[0m\u001b[1;39;49m]\u001b[0m\u001b[39;49m To update, run: \u001b[0m\u001b[32;49mpip install --upgrade pip\u001b[0m\n",
					"output_type": "stream"
				}
			]
		},
		{
			"cell_type": "code",
			"source": "import polars as pl\nimport numpy as np\nimport glob\nimport boto3\nfrom io import BytesIO\nfrom botocore.exceptions import NoCredentialsError",
			"metadata": {
				"trusted": true,
				"tags": []
			},
			"execution_count": 2,
			"outputs": []
		},
		{
			"cell_type": "code",
			"source": "def concatenate_files_to_dataframe(bucket_name, prefix,sep,how):\n    try:\n        # Listar os objetos no bucket com o prefixo especificado\n        objects = s3.list_objects_v2(Bucket=bucket_name, Prefix=prefix)\n\n        # Inicializar uma lista para armazenar os DataFrames de cada arquivo\n        dataframes = []\n\n        # Processar cada objeto listado\n        for obj in objects.get('Contents', []):\n            key = obj['Key']\n\n            # Baixar o objeto como um stream de bytes\n            response = s3.get_object(Bucket=bucket_name, Key=key)\n            data = response['Body'].read()\n            \n            # Decodificar o stream de bytes usando a codificação correta\n            #decoded_data = data.decode('iso-8859-1')\n\n            # Processar o stream de bytes como um DataFrame (usando pandas neste exemplo)\n            try:\n                dataframe = pl.read_csv(BytesIO(data),separator=sep,encoding='utf8-lossy')\n            except:\n                next\n            # Adicionar o DataFrame à lista\n            dataframes.append(dataframe)\n\n        # Concatenar todos os DataFrames em um único DataFrame\n        concatenated_dataframe = pl.concat(dataframes, how=how)\n\n        # Mostrar as primeiras linhas do DataFrame concatenado\n        print(concatenated_dataframe.head())\n\n    except NoCredentialsError:\n        print(\"Credenciais não encontradas. Certifique-se de configurar suas credenciais AWS.\")\n    return concatenated_dataframe",
			"metadata": {
				"trusted": true,
				"tags": []
			},
			"execution_count": 3,
			"outputs": []
		},
		{
			"cell_type": "code",
			"source": "def save_dataframe_to_s3(dataframe, destination_bucket, destination_key):\n    try:\n        # Salvar o DataFrame como um arquivo Parquet em um objeto BytesIO\n        buffer = BytesIO()\n        dataframe.write_parquet(buffer)\n\n        # Fazer o upload do arquivo Parquet para o novo bucket S3\n        s3.put_object(Bucket=destination_bucket, Key=destination_key, Body=buffer.getvalue())\n\n        print(\"DataFrame tratado salvo com sucesso no novo bucket S3!\")\n\n    except NoCredentialsError:\n        print(\"Credenciais não encontradas. Certifique-se de configurar suas credenciais AWS.\")\n\n",
			"metadata": {
				"trusted": true,
				"tags": []
			},
			"execution_count": 4,
			"outputs": []
		},
		{
			"cell_type": "markdown",
			"source": "# empregados",
			"metadata": {}
		},
		{
			"cell_type": "code",
			"source": "# Configurações\nbucket_name = 'raw-data-638026687251'\nprefix = 'Empregados/'\n# Inicializar o cliente S3\ns3 = boto3.client('s3')\n# Chamar a função para iniciar o download e processamento\ndf_empregados = concatenate_files_to_dataframe(bucket_name, prefix,'|','diagonal')\ndf_empregados = df_empregados[['Nome','Geral','Remuneração e benefícios']]\ndf_empregados.head(1)",
			"metadata": {
				"trusted": true,
				"tags": []
			},
			"execution_count": 5,
			"outputs": [
				{
					"name": "stdout",
					"text": "shape: (5, 24)\n┌────────────┬───────────┬───────────┬───────────┬───┬──────────┬───────────┬───────────┬──────────┐\n│ employer_n ┆ reviews_c ┆ culture_c ┆ salaries_ ┆ … ┆ CNPJ     ┆ Nome      ┆ match_per ┆ Segmento │\n│ ame        ┆ ount      ┆ ount      ┆ count     ┆   ┆ ---      ┆ ---       ┆ cent      ┆ ---      │\n│ ---        ┆ ---       ┆ ---       ┆ ---       ┆   ┆ i64      ┆ str       ┆ ---       ┆ str      │\n│ str        ┆ i64       ┆ i64       ┆ i64       ┆   ┆          ┆           ┆ i64       ┆          │\n╞════════════╪═══════════╪═══════════╪═══════════╪═══╪══════════╪═══════════╪═══════════╪══════════╡\n│ Apex Group ┆ 450       ┆ 281       ┆ 592       ┆ … ┆ 655522   ┆ APE       ┆ 70        ┆ null     │\n│            ┆           ┆           ┆           ┆   ┆          ┆ POUPEX    ┆           ┆          │\n│ Banco Alfa ┆ 175       ┆ 74        ┆ 271       ┆ … ┆ 58160789 ┆ SAFRA     ┆ 67        ┆ null     │\n│ China Cons ┆ 871       ┆ 194       ┆ 720       ┆ … ┆ 7450604  ┆ CHINA CON ┆ 77        ┆ null     │\n│ truction   ┆           ┆           ┆           ┆   ┆          ┆ STRUCTION ┆           ┆          │\n│ Bank       ┆           ┆           ┆           ┆   ┆          ┆ BANK      ┆           ┆          │\n│            ┆           ┆           ┆           ┆   ┆          ┆ (BRASIL)… ┆           ┆          │\n│ Mercedes-B ┆ 282       ┆ 90        ┆ 513       ┆ … ┆ 60814191 ┆ MERCEDES- ┆ 73        ┆ null     │\n│ enz        ┆           ┆           ┆           ┆   ┆          ┆ BENZ      ┆           ┆          │\n│ Mobility   ┆           ┆           ┆           ┆   ┆          ┆           ┆           ┆          │\n│ Sumitomo   ┆ 903       ┆ 246       ┆ 1300      ┆ … ┆ 60518222 ┆ BANCO     ┆ 65        ┆ null     │\n│ Mitsui     ┆           ┆           ┆           ┆   ┆          ┆ SUMITOMO  ┆           ┆          │\n│ Financial  ┆           ┆           ┆           ┆   ┆          ┆ MITSUI    ┆           ┆          │\n│ Group      ┆           ┆           ┆           ┆   ┆          ┆ BRASIL    ┆           ┆          │\n│            ┆           ┆           ┆           ┆   ┆          ┆ S.A…      ┆           ┆          │\n└────────────┴───────────┴───────────┴───────────┴───┴──────────┴───────────┴───────────┴──────────┘\n",
					"output_type": "stream"
				},
				{
					"execution_count": 5,
					"output_type": "execute_result",
					"data": {
						"text/plain": "shape: (1, 3)\n┌────────────┬───────┬──────────────────────────┐\n│ Nome       ┆ Geral ┆ Remuneração e benefícios │\n│ ---        ┆ ---   ┆ ---                      │\n│ str        ┆ f64   ┆ f64                      │\n╞════════════╪═══════╪══════════════════════════╡\n│ APE POUPEX ┆ 3.2   ┆ 2.7                      │\n└────────────┴───────┴──────────────────────────┘",
						"text/html": "<div><style>\n.dataframe > thead > tr > th,\n.dataframe > tbody > tr > td {\n  text-align: right;\n}\n</style>\n<small>shape: (1, 3)</small><table border=\"1\" class=\"dataframe\"><thead><tr><th>Nome</th><th>Geral</th><th>Remuneração e benefícios</th></tr><tr><td>str</td><td>f64</td><td>f64</td></tr></thead><tbody><tr><td>&quot;APE POUPEX&quot;</td><td>3.2</td><td>2.7</td></tr></tbody></table></div>"
					},
					"metadata": {}
				}
			]
		},
		{
			"cell_type": "markdown",
			"source": "# bancos",
			"metadata": {}
		},
		{
			"cell_type": "code",
			"source": "# Configurações\nbucket_name = 'raw-data-638026687251'\nprefix = 'Bancos/'\n# Inicializar o cliente S3\ns3 = boto3.client('s3')\n# Chamar a função para iniciar o download e processamento\ndf_bancos = concatenate_files_to_dataframe(bucket_name, prefix,'\\t','diagonal')\n\ndf_bancos = df_bancos.with_columns(pl.col('Nome').str.split_exact(\" - \", 1).struct.rename_fields([\"Nome do Banco\", \"second_part\"]).alias(\"fields\")).unnest(\"fields\")\ndf_bancos = df_bancos.drop(columns=['Nome','second_part'])\ndf_bancos.head(1)",
			"metadata": {
				"trusted": true,
				"tags": []
			},
			"execution_count": 6,
			"outputs": [
				{
					"name": "stdout",
					"text": "shape: (5, 3)\n┌──────────┬──────────┬───────────────────────────────────┐\n│ Segmento ┆ CNPJ     ┆ Nome                              │\n│ ---      ┆ ---      ┆ ---                               │\n│ str      ┆ i64      ┆ str                               │\n╞══════════╪══════════╪═══════════════════════════════════╡\n│ S1       ┆ 0        ┆ BANCO DO BRASIL - PRUDENCIAL      │\n│ S1       ┆ 60746948 ┆ BRADESCO - PRUDENCIAL             │\n│ S1       ┆ 30306294 ┆ BTG PACTUAL - PRUDENCIAL          │\n│ S1       ┆ 360305   ┆ CAIXA ECONOMICA FEDERAL - PRUDEN… │\n│ S1       ┆ 60872504 ┆ ITAU - PRUDENCIAL                 │\n└──────────┴──────────┴───────────────────────────────────┘\n",
					"output_type": "stream"
				},
				{
					"execution_count": 6,
					"output_type": "execute_result",
					"data": {
						"text/plain": "shape: (1, 3)\n┌──────────┬──────┬─────────────────┐\n│ Segmento ┆ CNPJ ┆ Nome do Banco   │\n│ ---      ┆ ---  ┆ ---             │\n│ str      ┆ i64  ┆ str             │\n╞══════════╪══════╪═════════════════╡\n│ S1       ┆ 0    ┆ BANCO DO BRASIL │\n└──────────┴──────┴─────────────────┘",
						"text/html": "<div><style>\n.dataframe > thead > tr > th,\n.dataframe > tbody > tr > td {\n  text-align: right;\n}\n</style>\n<small>shape: (1, 3)</small><table border=\"1\" class=\"dataframe\"><thead><tr><th>Segmento</th><th>CNPJ</th><th>Nome do Banco</th></tr><tr><td>str</td><td>i64</td><td>str</td></tr></thead><tbody><tr><td>&quot;S1&quot;</td><td>0</td><td>&quot;BANCO DO BRASI…</td></tr></tbody></table></div>"
					},
					"metadata": {}
				}
			]
		},
		{
			"cell_type": "markdown",
			"source": "# reclamações",
			"metadata": {}
		},
		{
			"cell_type": "code",
			"source": "# Configurações\nbucket_name = 'raw-data-638026687251'\nprefix = 'Reclamações/'\n# Inicializar o cliente S3\ns3 = boto3.client('s3')\n# Chamar a função para iniciar o download e processamento\ndf_reclamacoes = concatenate_files_to_dataframe(bucket_name, prefix,';','vertical_relaxed')\n\ndf_reclamacoes = df_reclamacoes.with_columns(pl.col('Institui��o financeira').str.split_exact(\" (\", 1).struct.rename_fields([\"Nome do Banco\", \"second_part\"]).alias(\"fields\")).unnest(\"fields\")\ndf_reclamacoes = df_reclamacoes[[\"Nome do Banco\", '�ndice','Quantidade total de reclama��es', 'Quantidade total de clientes � CCS e SCR']]\ndf_reclamacoes = df_reclamacoes.with_columns(pl.col('�ndice').str.replace('.',''))\ndf_reclamacoes = df_reclamacoes.with_columns(pl.col('�ndice').str.replace(',','.'))\ndf_reclamacoes.head(1)",
			"metadata": {
				"trusted": true,
				"tags": []
			},
			"execution_count": 7,
			"outputs": [
				{
					"name": "stdout",
					"text": "shape: (5, 14)\n┌──────┬───────────┬────────────┬────────────┬───┬────────────┬────────────┬───────────┬───────────┐\n│ Ano  ┆ Trimestre ┆ Categoria  ┆ Tipo       ┆ … ┆ Quantidade ┆ Quantidade ┆ Quantidad ┆ Quantidad │\n│ ---  ┆ ---       ┆ ---        ┆ ---        ┆   ┆ total de   ┆ total de   ┆ e de      ┆ e de      │\n│ i64  ┆ str       ┆ str        ┆ str        ┆   ┆ reclama��e ┆ clientes � ┆ clientes  ┆ clientes  │\n│      ┆           ┆            ┆            ┆   ┆ s          ┆ C…         ┆ � CCS     ┆ � SCR     │\n│      ┆           ┆            ┆            ┆   ┆ ---        ┆ ---        ┆ ---       ┆ ---       │\n│      ┆           ┆            ┆            ┆   ┆ i64        ┆ str        ┆ str       ┆ str       │\n╞══════╪═══════════╪════════════╪════════════╪═══╪════════════╪════════════╪═══════════╪═══════════╡\n│ 2021 ┆ 1�        ┆ Grupo      ┆ Conglomera ┆ … ┆ 9          ┆ 26230      ┆ 24698     ┆ 3810      │\n│      ┆           ┆ Secund�rio ┆ do         ┆   ┆            ┆            ┆           ┆           │\n│ 2021 ┆ 1�        ┆ Grupo      ┆ Conglomera ┆ … ┆ 271        ┆ 1058431    ┆ 790848    ┆ 693843    │\n│      ┆           ┆ Secund�rio ┆ do         ┆   ┆            ┆            ┆           ┆           │\n│ 2021 ┆ 1�        ┆ Grupo      ┆ Banco/fina ┆ … ┆ 6          ┆ 420692     ┆ 129       ┆ 420563    │\n│      ┆           ┆ Secund�rio ┆ nceira     ┆   ┆            ┆            ┆           ┆           │\n│ 2021 ┆ 1�        ┆ Grupo      ┆ Banco/fina ┆ … ┆ 2          ┆ 12645      ┆ 4979      ┆ 10112     │\n│      ┆           ┆ Secund�rio ┆ nceira     ┆   ┆            ┆            ┆           ┆           │\n│ 2021 ┆ 1�        ┆ Grupo      ┆ Conglomera ┆ … ┆ 73         ┆ 412135     ┆ 268186    ┆ 145105    │\n│      ┆           ┆ Secund�rio ┆ do         ┆   ┆            ┆            ┆           ┆           │\n└──────┴───────────┴────────────┴────────────┴───┴────────────┴────────────┴───────────┴───────────┘\n",
					"output_type": "stream"
				},
				{
					"execution_count": 7,
					"output_type": "execute_result",
					"data": {
						"text/plain": "shape: (1, 4)\n┌───────────────┬────────┬─────────────────────────────────┬───────────────────────────────────┐\n│ Nome do Banco ┆ �ndice ┆ Quantidade total de reclama��es ┆ Quantidade total de clientes � C… │\n│ ---           ┆ ---    ┆ ---                             ┆ ---                               │\n│ str           ┆ str    ┆ i64                             ┆ str                               │\n╞═══════════════╪════════╪═════════════════════════════════╪═══════════════════════════════════╡\n│ ABC-BRASIL    ┆        ┆ 9                               ┆ 26230                             │\n└───────────────┴────────┴─────────────────────────────────┴───────────────────────────────────┘",
						"text/html": "<div><style>\n.dataframe > thead > tr > th,\n.dataframe > tbody > tr > td {\n  text-align: right;\n}\n</style>\n<small>shape: (1, 4)</small><table border=\"1\" class=\"dataframe\"><thead><tr><th>Nome do Banco</th><th>�ndice</th><th>Quantidade total de reclama��es</th><th>Quantidade total de clientes � CCS e SCR</th></tr><tr><td>str</td><td>str</td><td>i64</td><td>str</td></tr></thead><tbody><tr><td>&quot;ABC-BRASIL&quot;</td><td>&quot;&quot;</td><td>9</td><td>&quot;26230&quot;</td></tr></tbody></table></div>"
					},
					"metadata": {}
				}
			]
		},
		{
			"cell_type": "code",
			"source": "df_join1=df_bancos.join(df_empregados,left_on='Nome do Banco',right_on='Nome',how='inner')",
			"metadata": {
				"trusted": true,
				"tags": []
			},
			"execution_count": 8,
			"outputs": []
		},
		{
			"cell_type": "code",
			"source": "df_join1.head(1)",
			"metadata": {
				"trusted": true,
				"tags": []
			},
			"execution_count": 9,
			"outputs": [
				{
					"execution_count": 9,
					"output_type": "execute_result",
					"data": {
						"text/plain": "shape: (1, 5)\n┌──────────┬──────┬─────────────────┬───────┬──────────────────────────┐\n│ Segmento ┆ CNPJ ┆ Nome do Banco   ┆ Geral ┆ Remuneração e benefícios │\n│ ---      ┆ ---  ┆ ---             ┆ ---   ┆ ---                      │\n│ str      ┆ i64  ┆ str             ┆ f64   ┆ f64                      │\n╞══════════╪══════╪═════════════════╪═══════╪══════════════════════════╡\n│ S1       ┆ 0    ┆ BANCO DO BRASIL ┆ 4.3   ┆ 4.2                      │\n└──────────┴──────┴─────────────────┴───────┴──────────────────────────┘",
						"text/html": "<div><style>\n.dataframe > thead > tr > th,\n.dataframe > tbody > tr > td {\n  text-align: right;\n}\n</style>\n<small>shape: (1, 5)</small><table border=\"1\" class=\"dataframe\"><thead><tr><th>Segmento</th><th>CNPJ</th><th>Nome do Banco</th><th>Geral</th><th>Remuneração e benefícios</th></tr><tr><td>str</td><td>i64</td><td>str</td><td>f64</td><td>f64</td></tr></thead><tbody><tr><td>&quot;S1&quot;</td><td>0</td><td>&quot;BANCO DO BRASI…</td><td>4.3</td><td>4.2</td></tr></tbody></table></div>"
					},
					"metadata": {}
				}
			]
		},
		{
			"cell_type": "code",
			"source": "df_join2 = df_bancos.join(df_reclamacoes,on='Nome do Banco',how='inner')",
			"metadata": {
				"trusted": true,
				"tags": []
			},
			"execution_count": 10,
			"outputs": []
		},
		{
			"cell_type": "code",
			"source": "df_join2.head(1)",
			"metadata": {
				"trusted": true,
				"tags": []
			},
			"execution_count": 11,
			"outputs": [
				{
					"execution_count": 11,
					"output_type": "execute_result",
					"data": {
						"text/plain": "shape: (1, 6)\n┌──────────┬──────────┬───────────────┬────────┬─────────────────────┬─────────────────────┐\n│ Segmento ┆ CNPJ     ┆ Nome do Banco ┆ �ndice ┆ Quantidade total de ┆ Quantidade total de │\n│ ---      ┆ ---      ┆ ---           ┆ ---    ┆ reclama��es         ┆ clientes � C…       │\n│ str      ┆ i64      ┆ str           ┆ str    ┆ ---                 ┆ ---                 │\n│          ┆          ┆               ┆        ┆ i64                 ┆ str                 │\n╞══════════╪══════════╪═══════════════╪════════╪═════════════════════╪═════════════════════╡\n│ S1       ┆ 60746948 ┆ BRADESCO      ┆ 2.78   ┆ 8752                ┆ 98648524            │\n└──────────┴──────────┴───────────────┴────────┴─────────────────────┴─────────────────────┘",
						"text/html": "<div><style>\n.dataframe > thead > tr > th,\n.dataframe > tbody > tr > td {\n  text-align: right;\n}\n</style>\n<small>shape: (1, 6)</small><table border=\"1\" class=\"dataframe\"><thead><tr><th>Segmento</th><th>CNPJ</th><th>Nome do Banco</th><th>�ndice</th><th>Quantidade total de reclama��es</th><th>Quantidade total de clientes � CCS e SCR</th></tr><tr><td>str</td><td>i64</td><td>str</td><td>str</td><td>i64</td><td>str</td></tr></thead><tbody><tr><td>&quot;S1&quot;</td><td>60746948</td><td>&quot;BRADESCO&quot;</td><td>&quot;2.78&quot;</td><td>8752</td><td>&quot;98648524&quot;</td></tr></tbody></table></div>"
					},
					"metadata": {}
				}
			]
		},
		{
			"cell_type": "code",
			"source": "df_join2 = df_join2.with_columns(pl.col(['�ndice']).cast(pl.Float64,strict=False))\ndf_join2 = df_join2.with_columns(pl.col(['Quantidade total de reclama��es', 'Quantidade total de clientes � CCS e SCR']).cast(pl.Int64))",
			"metadata": {
				"trusted": true,
				"tags": []
			},
			"execution_count": 12,
			"outputs": []
		},
		{
			"cell_type": "code",
			"source": "df_join2 = df_join2.groupby(['CNPJ','Nome do Banco']).agg(\n    pl.col('�ndice').mean(),\n    pl.col('Quantidade total de reclama��es').sum(),\n    pl.col('Quantidade total de clientes � CCS e SCR').sum()\n    )",
			"metadata": {
				"trusted": true,
				"tags": []
			},
			"execution_count": 13,
			"outputs": []
		},
		{
			"cell_type": "code",
			"source": "df_final = df_join1.join(df_join2,on='CNPJ',how='inner')",
			"metadata": {
				"trusted": true,
				"tags": []
			},
			"execution_count": 14,
			"outputs": []
		},
		{
			"cell_type": "code",
			"source": "df_final.head(1)",
			"metadata": {
				"trusted": true,
				"tags": []
			},
			"execution_count": 15,
			"outputs": [
				{
					"execution_count": 15,
					"output_type": "execute_result",
					"data": {
						"text/plain": "shape: (1, 9)\n┌──────────┬──────────┬─────────┬───────┬───┬───────────────┬────────┬──────────────┬──────────────┐\n│ Segmento ┆ CNPJ     ┆ Nome do ┆ Geral ┆ … ┆ Nome do       ┆ �ndice ┆ Quantidade   ┆ Quantidade   │\n│ ---      ┆ ---      ┆ Banco   ┆ ---   ┆   ┆ Banco_right   ┆ ---    ┆ total de     ┆ total de     │\n│ str      ┆ i64      ┆ ---     ┆ f64   ┆   ┆ ---           ┆ f64    ┆ reclama��es  ┆ clientes �   │\n│          ┆          ┆ str     ┆       ┆   ┆ str           ┆        ┆ ---          ┆ C…           │\n│          ┆          ┆         ┆       ┆   ┆               ┆        ┆ i64          ┆ ---          │\n│          ┆          ┆         ┆       ┆   ┆               ┆        ┆              ┆ i64          │\n╞══════════╪══════════╪═════════╪═══════╪═══╪═══════════════╪════════╪══════════════╪══════════════╡\n│ S1       ┆ 60872504 ┆ ITAU    ┆ 4.5   ┆ … ┆ ITAU          ┆ 4.9125 ┆ 48702        ┆ 725005836    │\n└──────────┴──────────┴─────────┴───────┴───┴───────────────┴────────┴──────────────┴──────────────┘",
						"text/html": "<div><style>\n.dataframe > thead > tr > th,\n.dataframe > tbody > tr > td {\n  text-align: right;\n}\n</style>\n<small>shape: (1, 9)</small><table border=\"1\" class=\"dataframe\"><thead><tr><th>Segmento</th><th>CNPJ</th><th>Nome do Banco</th><th>Geral</th><th>Remuneração e benefícios</th><th>Nome do Banco_right</th><th>�ndice</th><th>Quantidade total de reclama��es</th><th>Quantidade total de clientes � CCS e SCR</th></tr><tr><td>str</td><td>i64</td><td>str</td><td>f64</td><td>f64</td><td>str</td><td>f64</td><td>i64</td><td>i64</td></tr></thead><tbody><tr><td>&quot;S1&quot;</td><td>60872504</td><td>&quot;ITAU&quot;</td><td>4.5</td><td>4.6</td><td>&quot;ITAU&quot;</td><td>4.9125</td><td>48702</td><td>725005836</td></tr></tbody></table></div>"
					},
					"metadata": {}
				}
			]
		},
		{
			"cell_type": "code",
			"source": "df_final = df_final.rename({'Segmento':'Classificação do Banco',\n                 'Quantidade total de clientes � CCS e SCR':'Quantidade de Clientes do Bancos',\n                 '�ndice':'Índice de reclamações',\n                 'Quantidade total de reclama��es':'Quantidade de reclamações',\n                 'Geral':'Índice de satisfação dos funcionários dos bancos',\n                 'Remuneração e benefícios':'Índice de satisfação com salários dos funcionários dos bancos'})\ndf_final = df_final.drop(columns=['Nome do Banco_right'])\ndf_final = df_final[['Nome do Banco',\n'CNPJ',\n'Classificação do Banco',\n'Quantidade de Clientes do Bancos',\n'Índice de reclamações',\n'Quantidade de reclamações',\n'Índice de satisfação dos funcionários dos bancos',\n'Índice de satisfação com salários dos funcionários dos bancos']]",
			"metadata": {
				"trusted": true,
				"tags": []
			},
			"execution_count": 16,
			"outputs": []
		},
		{
			"cell_type": "code",
			"source": "df_final",
			"metadata": {
				"trusted": true,
				"tags": []
			},
			"execution_count": 17,
			"outputs": [
				{
					"execution_count": 17,
					"output_type": "execute_result",
					"data": {
						"text/plain": "shape: (27, 8)\n┌────────────┬──────────┬────────────┬────────────┬────────────┬───────────┬───────────┬───────────┐\n│ Nome do    ┆ CNPJ     ┆ Classifica ┆ Quantidade ┆ Índice de  ┆ Quantidad ┆ Índice de ┆ Índice de │\n│ Banco      ┆ ---      ┆ ção do     ┆ de         ┆ reclamaçõe ┆ e de recl ┆ satisfaçã ┆ satisfaçã │\n│ ---        ┆ i64      ┆ Banco      ┆ Clientes   ┆ s          ┆ amações   ┆ o dos     ┆ o com     │\n│ str        ┆          ┆ ---        ┆ do Bancos  ┆ ---        ┆ ---       ┆ funcion…  ┆ salário…  │\n│            ┆          ┆ str        ┆ ---        ┆ f64        ┆ i64       ┆ ---       ┆ ---       │\n│            ┆          ┆            ┆ i64        ┆            ┆           ┆ f64       ┆ f64       │\n╞════════════╪══════════╪════════════╪════════════╪════════════╪═══════════╪═══════════╪═══════════╡\n│ ITAU       ┆ 60872504 ┆ S1         ┆ 725005836  ┆ 4.9125     ┆ 48702     ┆ 4.5       ┆ 4.6       │\n│ BANRISUL   ┆ 92702067 ┆ S2         ┆ 40842351   ┆ 4.10125    ┆ 4092      ┆ 4.2       ┆ 4.1       │\n│ CREDIT     ┆ 33987793 ┆ S2         ┆ 5997       ┆ null       ┆ 4         ┆ 3.8       ┆ 3.6       │\n│ SUISSE     ┆          ┆            ┆            ┆            ┆           ┆           ┆           │\n│ JP MORGAN  ┆ 33172537 ┆ S3         ┆ 15661      ┆ null       ┆ 12        ┆ 4.0       ┆ 3.9       │\n│ CHASE      ┆          ┆            ┆            ┆            ┆           ┆           ┆           │\n│ …          ┆ …        ┆ …          ┆ …          ┆ …          ┆ …         ┆ …         ┆ …         │\n│ BNP        ┆ 1522368  ┆ S3         ┆ 17649892   ┆ 32.4075    ┆ 5168      ┆ 3.8       ┆ 3.4       │\n│ PARIBAS    ┆          ┆            ┆            ┆            ┆           ┆           ┆           │\n│ MERCEDES-B ┆ 60814191 ┆ S3         ┆ 158806     ┆ null       ┆ 36        ┆ 4.1       ┆ 4.0       │\n│ ENZ        ┆          ┆            ┆            ┆            ┆           ┆           ┆           │\n│ MERCEDES-B ┆ 60814191 ┆ S3         ┆ 158806     ┆ null       ┆ 36        ┆ 4.1       ┆ 4.0       │\n│ ENZ        ┆          ┆            ┆            ┆            ┆           ┆           ┆           │\n│ PAN        ┆ 59285411 ┆ S3         ┆ 8907890    ┆ 45.28      ┆ 3953      ┆ 4.4       ┆ 4.6       │\n└────────────┴──────────┴────────────┴────────────┴────────────┴───────────┴───────────┴───────────┘",
						"text/html": "<div><style>\n.dataframe > thead > tr > th,\n.dataframe > tbody > tr > td {\n  text-align: right;\n}\n</style>\n<small>shape: (27, 8)</small><table border=\"1\" class=\"dataframe\"><thead><tr><th>Nome do Banco</th><th>CNPJ</th><th>Classificação do Banco</th><th>Quantidade de Clientes do Bancos</th><th>Índice de reclamações</th><th>Quantidade de reclamações</th><th>Índice de satisfação dos funcionários dos bancos</th><th>Índice de satisfação com salários dos funcionários dos bancos</th></tr><tr><td>str</td><td>i64</td><td>str</td><td>i64</td><td>f64</td><td>i64</td><td>f64</td><td>f64</td></tr></thead><tbody><tr><td>&quot;ITAU&quot;</td><td>60872504</td><td>&quot;S1&quot;</td><td>725005836</td><td>4.9125</td><td>48702</td><td>4.5</td><td>4.6</td></tr><tr><td>&quot;BANRISUL&quot;</td><td>92702067</td><td>&quot;S2&quot;</td><td>40842351</td><td>4.10125</td><td>4092</td><td>4.2</td><td>4.1</td></tr><tr><td>&quot;CREDIT SUISSE&quot;</td><td>33987793</td><td>&quot;S2&quot;</td><td>5997</td><td>null</td><td>4</td><td>3.8</td><td>3.6</td></tr><tr><td>&quot;JP MORGAN CHAS…</td><td>33172537</td><td>&quot;S3&quot;</td><td>15661</td><td>null</td><td>12</td><td>4.0</td><td>3.9</td></tr><tr><td>&quot;JP MORGAN CHAS…</td><td>33172537</td><td>&quot;S3&quot;</td><td>15661</td><td>null</td><td>12</td><td>4.1</td><td>3.9</td></tr><tr><td>&quot;ORIGINAL&quot;</td><td>92894922</td><td>&quot;S3&quot;</td><td>216530140</td><td>5.80875</td><td>12093</td><td>3.8</td><td>4.0</td></tr><tr><td>&quot;SICREDI&quot;</td><td>1181521</td><td>&quot;S3&quot;</td><td>45197272</td><td>null</td><td>19</td><td>4.4</td><td>4.1</td></tr><tr><td>&quot;CITIBANK&quot;</td><td>33479023</td><td>&quot;S2&quot;</td><td>145999</td><td>null</td><td>105</td><td>3.9</td><td>3.8</td></tr><tr><td>&quot;ALFA&quot;</td><td>60770336</td><td>&quot;S3&quot;</td><td>3385769</td><td>null</td><td>537</td><td>3.5</td><td>3.8</td></tr><tr><td>&quot;BANCO FIBRA S.…</td><td>58616418</td><td>&quot;S3&quot;</td><td>1146509</td><td>null</td><td>19</td><td>4.3</td><td>4.2</td></tr><tr><td>&quot;BMG&quot;</td><td>61186680</td><td>&quot;S3&quot;</td><td>76798654</td><td>13.33875</td><td>13345</td><td>4.1</td><td>4.2</td></tr><tr><td>&quot;CHINA CONSTRUC…</td><td>7450604</td><td>&quot;S3&quot;</td><td>1521978</td><td>null</td><td>855</td><td>3.4</td><td>3.5</td></tr><tr><td>&hellip;</td><td>&hellip;</td><td>&hellip;</td><td>&hellip;</td><td>&hellip;</td><td>&hellip;</td><td>&hellip;</td><td>&hellip;</td></tr><tr><td>&quot;BANCO DO NORDE…</td><td>7237373</td><td>&quot;S2&quot;</td><td>71842054</td><td>null</td><td>556</td><td>4.5</td><td>4.2</td></tr><tr><td>&quot;BOFA MERRILL L…</td><td>62073200</td><td>&quot;S3&quot;</td><td>28357</td><td>null</td><td>8</td><td>3.8</td><td>3.8</td></tr><tr><td>&quot;PINE&quot;</td><td>62144175</td><td>&quot;S3&quot;</td><td>247663</td><td>null</td><td>32</td><td>3.8</td><td>3.9</td></tr><tr><td>&quot;SOCIETE GENERA…</td><td>61533584</td><td>&quot;S3&quot;</td><td>2592</td><td>null</td><td>9</td><td>3.7</td><td>3.3</td></tr><tr><td>&quot;BRADESCO&quot;</td><td>60746948</td><td>&quot;S1&quot;</td><td>807833491</td><td>4.5875</td><td>68882</td><td>4.2</td><td>4.3</td></tr><tr><td>&quot;SAFRA&quot;</td><td>58160789</td><td>&quot;S2&quot;</td><td>38506657</td><td>25.27875</td><td>10787</td><td>3.5</td><td>3.8</td></tr><tr><td>&quot;VOTORANTIM&quot;</td><td>59588111</td><td>&quot;S2&quot;</td><td>142819261</td><td>1.20625</td><td>5031</td><td>4.4</td><td>4.6</td></tr><tr><td>&quot;VOTORANTIM&quot;</td><td>59588111</td><td>&quot;S2&quot;</td><td>142819261</td><td>1.20625</td><td>5031</td><td>4.1</td><td>3.3</td></tr><tr><td>&quot;BNP PARIBAS&quot;</td><td>1522368</td><td>&quot;S3&quot;</td><td>17649892</td><td>32.4075</td><td>5168</td><td>3.8</td><td>3.4</td></tr><tr><td>&quot;MERCEDES-BENZ&quot;</td><td>60814191</td><td>&quot;S3&quot;</td><td>158806</td><td>null</td><td>36</td><td>4.1</td><td>4.0</td></tr><tr><td>&quot;MERCEDES-BENZ&quot;</td><td>60814191</td><td>&quot;S3&quot;</td><td>158806</td><td>null</td><td>36</td><td>4.1</td><td>4.0</td></tr><tr><td>&quot;PAN&quot;</td><td>59285411</td><td>&quot;S3&quot;</td><td>8907890</td><td>45.28</td><td>3953</td><td>4.4</td><td>4.6</td></tr></tbody></table></div>"
					},
					"metadata": {}
				}
			]
		},
		{
			"cell_type": "code",
			"source": "destination_bucket_name = 'process-data-638026687251'\ndestination_key = 'df_final.parquet'\n\n# Chamar a função para salvar o DataFrame tratado no novo bucket S3\nsave_dataframe_to_s3(df_final, destination_bucket_name, destination_key)",
			"metadata": {
				"trusted": true,
				"tags": []
			},
			"execution_count": 18,
			"outputs": [
				{
					"name": "stdout",
					"text": "DataFrame tratado salvo com sucesso no novo bucket S3!\n",
					"output_type": "stream"
				}
			]
		}
	]
}